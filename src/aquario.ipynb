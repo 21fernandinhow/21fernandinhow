{
  "nbformat": 4,
  "nbformat_minor": 0,
  "metadata": {
    "colab": {
      "provenance": [],
      "authorship_tag": "ABX9TyP9W4F5HAFLOjfwgCJFNWR5",
      "include_colab_link": true
    },
    "kernelspec": {
      "name": "python3",
      "display_name": "Python 3"
    },
    "language_info": {
      "name": "python"
    }
  },
  "cells": [
    {
      "cell_type": "markdown",
      "metadata": {
        "id": "view-in-github",
        "colab_type": "text"
      },
      "source": [
        "<a href=\"https://colab.research.google.com/github/21fernandinhow/21fernandinhow/blob/main/src/aquario.ipynb\" target=\"_parent\"><img src=\"https://colab.research.google.com/assets/colab-badge.svg\" alt=\"Open In Colab\"/></a>"
      ]
    },
    {
      "cell_type": "code",
      "execution_count": 6,
      "metadata": {
        "colab": {
          "base_uri": "https://localhost:8080/"
        },
        "id": "5uHHwTc3n7tt",
        "outputId": "6b307d3e-52c9-434f-fcfc-2963aad69e43"
      },
      "outputs": [
        {
          "output_type": "stream",
          "name": "stdout",
          "text": [
            "Bem-vindo a Calculadora de Aquários!\n",
            "Insira o comprimento do aquário em centímetros: 30\n",
            "Insira a largura do aquário em centímetros: 30\n",
            "Insira a altura do aquário em centímetros: 20\n",
            "A litragem do aquário é de aproximadamente 18.00 litros\n"
          ]
        }
      ],
      "source": [
        "#Boas vindas\n",
        "print(\"Bem-vindo a Calculadora de Aquários!\")\n",
        "\n",
        "# Solicitar ao usuário as dimensões do aquário em centímetros\n",
        "comprimento = float(input(\"Insira o comprimento do aquário em centímetros: \"))\n",
        "largura = float(input(\"Insira a largura do aquário em centímetros: \"))\n",
        "altura = float(input(\"Insira a altura do aquário em centímetros: \"))\n",
        "\n",
        "# Resultado\n",
        "litragem = (comprimento * largura * altura) / 1000\n",
        "print(f\"A litragem do aquário é de aproximadamente {litragem:.2f} litros\")\n"
      ]
    }
  ]
}